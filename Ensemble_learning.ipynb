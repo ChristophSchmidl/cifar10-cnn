{
 "cells": [
  {
   "cell_type": "markdown",
   "metadata": {},
   "source": [
    "# Ensemble learning"
   ]
  },
  {
   "cell_type": "code",
   "execution_count": 62,
   "metadata": {},
   "outputs": [],
   "source": [
    "model_names = [\n",
    "    'vgg16-keras', \n",
    "    'vgg19-keras', \n",
    "    'resnet50-keras',\n",
    "    'incv3-keras',   \n",
    "    'Inception_v3'\n",
    "]\n",
    "\n",
    "classifier_filepath = {\n",
    "    'incv3-keras'    : 'classifiers/7577-incv3-keras.pkl',\n",
    "    'vgg16-keras'    : 'classifiers/8515-vgg16-keras.pkl',\n",
    "    'vgg19-keras'    : 'classifiers/8654-vgg19-keras.pkl',\n",
    "    'Inception_v3'   : 'classifiers/9061-Inception_v3.pkl',\n",
    "    'resnet50-keras' : 'classifiers/9130-resnet50-keras.pkl'\n",
    "}\n",
    "\n",
    "import numpy as np\n",
    "data = dict()\n",
    "for model_name in model_names:\n",
    "    data[model_name] = np.load('features/CIFAR10_{model}_features.npz'.format(model=model_name)) "
   ]
  },
  {
   "cell_type": "code",
   "execution_count": 63,
   "metadata": {},
   "outputs": [
    {
     "name": "stderr",
     "output_type": "stream",
     "text": [
      "'ls' is not recognized as an internal or external command,\n",
      "operable program or batch file.\n"
     ]
    }
   ],
   "source": [
    "!ls -1 classifiers/*.pkl"
   ]
  },
  {
   "cell_type": "code",
   "execution_count": 64,
   "metadata": {
    "collapsed": true
   },
   "outputs": [],
   "source": [
    "from sklearn.externals import joblib\n",
    "\n",
    "clf = dict()\n",
    "for name in model_names:\n",
    "    clf[name] = joblib.load(classifier_filepath[name])"
   ]
  },
  {
   "cell_type": "code",
   "execution_count": 65,
   "metadata": {},
   "outputs": [
    {
     "data": {
      "text/plain": [
       "{'C': 0.01,\n",
       " 'class_weight': None,\n",
       " 'dual': True,\n",
       " 'fit_intercept': True,\n",
       " 'intercept_scaling': 1,\n",
       " 'loss': 'squared_hinge',\n",
       " 'max_iter': 1000,\n",
       " 'multi_class': 'ovr',\n",
       " 'penalty': 'l2',\n",
       " 'random_state': None,\n",
       " 'tol': 0.0001,\n",
       " 'verbose': 1}"
      ]
     },
     "execution_count": 65,
     "metadata": {},
     "output_type": "execute_result"
    }
   ],
   "source": [
    "clf['resnet50-keras'].get_params()"
   ]
  },
  {
   "cell_type": "markdown",
   "metadata": {},
   "source": [
    "Let us remind the classifiers scores on training dataset from CIFAR10\n",
    "\n",
    "    incv3    => 7577\n",
    "    vgg16    => 8515\n",
    "    vgg19    => 8654\n",
    "    Incv3    => 9061\n",
    "    resnet50 => 9130"
   ]
  },
  {
   "cell_type": "markdown",
   "metadata": {},
   "source": [
    "## Majority voting"
   ]
  },
  {
   "cell_type": "code",
   "execution_count": 66,
   "metadata": {
    "collapsed": true
   },
   "outputs": [],
   "source": [
    "import myutils\n",
    "import numpy as np"
   ]
  },
  {
   "cell_type": "code",
   "execution_count": 67,
   "metadata": {
    "collapsed": true
   },
   "outputs": [],
   "source": [
    "_, data_testing = myutils.load_CIFAR_dataset(shuffle=False)\n",
    "\n",
    "y_testing = np.array( data_testing )[:,1]\n",
    "n_testing = y_testing.shape[0]"
   ]
  },
  {
   "cell_type": "code",
   "execution_count": 70,
   "metadata": {
    "collapsed": true
   },
   "outputs": [],
   "source": [
    "from collections import Counter\n",
    "\n",
    "def majority_vote(i):\n",
    "    votes = np.zeros(10);\n",
    "    for name in model_names:\n",
    "        y = y_predictions[name][i]\n",
    "        votes[y] += 1\n",
    "    return votes.argmax()\n",
    "\n",
    "y_predictions = dict()\n",
    "for name in model_names:\n",
    "    y_predictions[name] = clf[name].predict( data[name]['features_testing'] )\n",
    "    \n",
    "y_ensembled = [ majority_vote(i) for i in range(n_testing) ]"
   ]
  },
  {
   "cell_type": "code",
   "execution_count": 71,
   "metadata": {},
   "outputs": [
    {
     "data": {
      "text/plain": [
       "9189"
      ]
     },
     "execution_count": 71,
     "metadata": {},
     "output_type": "execute_result"
    }
   ],
   "source": [
    "np.sum(y_ensembled == y_testing)"
   ]
  },
  {
   "cell_type": "markdown",
   "metadata": {},
   "source": [
    "Simple majority voting increases our best result to **91.89%**"
   ]
  },
  {
   "cell_type": "markdown",
   "metadata": {
    "collapsed": true
   },
   "source": [
    "## Weighted voting"
   ]
  },
  {
   "cell_type": "code",
   "execution_count": 110,
   "metadata": {},
   "outputs": [],
   "source": [
    "# Assume, we know how good are our models. We can give some weight to their votes.\n",
    "classifier_weights = {\n",
    "    'incv3-keras'    : 2,\n",
    "    'vgg16-keras'    : 2,\n",
    "    'vgg19-keras'    : 3,\n",
    "    'Inception_v3'   : 4,\n",
    "    'resnet50-keras' : 5\n",
    "}\n",
    "\n",
    "def weighted_vote(i):\n",
    "    votes = np.zeros(10);\n",
    "    for name in model_names:\n",
    "        y = y_predictions[name][i]\n",
    "        votes[y] = votes[y] + classifier_weights[name]\n",
    "    return votes.argmax()\n",
    "\n",
    "y_ensembled = [ weighted_vote(i) for i in range(n_testing) ]"
   ]
  },
  {
   "cell_type": "code",
   "execution_count": 111,
   "metadata": {},
   "outputs": [
    {
     "data": {
      "text/plain": [
       "9293"
      ]
     },
     "execution_count": 111,
     "metadata": {},
     "output_type": "execute_result"
    }
   ],
   "source": [
    "np.sum( y_ensembled == y_testing )"
   ]
  },
  {
   "cell_type": "markdown",
   "metadata": {},
   "source": [
    "## Dynamic voting\n",
    "1. Take the image to classify\n",
    "2. Find its K nearest neighbors\n",
    "3. Classify the neighbor using all classifiers\n",
    "4. Use weighted voting\n",
    "\n",
    "    todo"
   ]
  },
  {
   "cell_type": "markdown",
   "metadata": {},
   "source": [
    "## Adaboost"
   ]
  },
  {
   "cell_type": "code",
   "execution_count": 112,
   "metadata": {
    "collapsed": true
   },
   "outputs": [],
   "source": [
    "#  base_clf = clf['resnet50-keras']"
   ]
  },
  {
   "cell_type": "code",
   "execution_count": 116,
   "metadata": {},
   "outputs": [],
   "source": [
    "from sklearn import svm\n",
    "\n",
    "base_clf = svm.SVC(probability=True,kernel='linear')"
   ]
  },
  {
   "cell_type": "code",
   "execution_count": 119,
   "metadata": {},
   "outputs": [
    {
     "data": {
      "text/plain": [
       "SVC(C=1.0, cache_size=200, class_weight=None, coef0=0.0,\n",
       "  decision_function_shape='ovr', degree=3, gamma='auto', kernel='linear',\n",
       "  max_iter=-1, probability=True, random_state=None, shrinking=True,\n",
       "  tol=0.001, verbose=False)"
      ]
     },
     "execution_count": 119,
     "metadata": {},
     "output_type": "execute_result"
    }
   ],
   "source": [
    "n_training = 1000 # TODO: try with bigger testing data\n",
    "\n",
    "X_train = data['resnet50-keras']['features_training'][:n_training]\n",
    "y_train = data['resnet50-keras']['labels_training'][:n_training]\n",
    "\n",
    "base_clf.fit( X_train, y_train )"
   ]
  },
  {
   "cell_type": "code",
   "execution_count": 120,
   "metadata": {},
   "outputs": [
    {
     "data": {
      "text/plain": [
       "0.83030000000000004"
      ]
     },
     "execution_count": 120,
     "metadata": {},
     "output_type": "execute_result"
    }
   ],
   "source": [
    "base_clf.score( data['resnet50-keras']['features_testing'], data['resnet50-keras']['labels_testing'] )"
   ]
  },
  {
   "cell_type": "code",
   "execution_count": 122,
   "metadata": {},
   "outputs": [],
   "source": [
    "from sklearn.ensemble import AdaBoostClassifier\n",
    "boosted_model = AdaBoostClassifier(base_estimator = base_clf)"
   ]
  },
  {
   "cell_type": "code",
   "execution_count": 123,
   "metadata": {},
   "outputs": [
    {
     "data": {
      "text/plain": [
       "AdaBoostClassifier(algorithm='SAMME.R',\n",
       "          base_estimator=SVC(C=1.0, cache_size=200, class_weight=None, coef0=0.0,\n",
       "  decision_function_shape='ovr', degree=3, gamma='auto', kernel='linear',\n",
       "  max_iter=-1, probability=True, random_state=None, shrinking=True,\n",
       "  tol=0.001, verbose=False),\n",
       "          learning_rate=1.0, n_estimators=50, random_state=None)"
      ]
     },
     "execution_count": 123,
     "metadata": {},
     "output_type": "execute_result"
    }
   ],
   "source": [
    "boosted_model.fit( X_train, y_train )"
   ]
  },
  {
   "cell_type": "code",
   "execution_count": 124,
   "metadata": {},
   "outputs": [
    {
     "data": {
      "text/plain": [
       "0.78369999999999995"
      ]
     },
     "execution_count": 124,
     "metadata": {},
     "output_type": "execute_result"
    }
   ],
   "source": [
    "boosted_model.score( data['resnet50-keras']['features_testing'], data['resnet50-keras']['labels_testing'] )"
   ]
  },
  {
   "cell_type": "code",
   "execution_count": null,
   "metadata": {
    "collapsed": true
   },
   "outputs": [],
   "source": []
  }
 ],
 "metadata": {
  "kernelspec": {
   "display_name": "Python 3",
   "language": "python",
   "name": "python3"
  },
  "language_info": {
   "codemirror_mode": {
    "name": "ipython",
    "version": 3
   },
   "file_extension": ".py",
   "mimetype": "text/x-python",
   "name": "python",
   "nbconvert_exporter": "python",
   "pygments_lexer": "ipython3",
   "version": "3.6.2"
  }
 },
 "nbformat": 4,
 "nbformat_minor": 2
}
