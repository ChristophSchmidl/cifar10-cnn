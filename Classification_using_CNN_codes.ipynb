{
 "cells": [
  {
   "cell_type": "markdown",
   "metadata": {},
   "source": [
    "# CIFAR10 classification\n",
    "\n",
    "Here we are going to show the final results on our classification problem.\n",
    "Let us remind what we have already done\n",
    "1. Loaded CIFAR10 dataset (see [CIFAR10-visualization.ipynb](CIFAR10-visualization.ipynb))\n",
    "2. Applied Inception v3 model of CNN (pretrained on [ILSVRC-2012-CLS](http://www.image-net.org/challenges/LSVRC/2012/)) to CIFAR10 images in order to obtain their CNN codes (see [Feature_extraction_using_Inception_v3.ipynb](Feature_extraction_using_Inception_v3.ipynb))\n",
    "3. Saved the CNN codes in the file <tt>features/CIFAR10_Inception_v3_features.npz</tt>\n",
    "\n",
    "Lets load the data first."
   ]
  },
  {
   "cell_type": "code",
   "execution_count": 1,
   "metadata": {},
   "outputs": [
    {
     "name": "stdout",
     "output_type": "stream",
     "text": [
      "X_training size = (50000, 2048)\n"
     ]
    }
   ],
   "source": [
    "import numpy as np\n",
    "import myutils\n",
    "import matplotlib.pyplot as plt\n",
    "\n",
    "data = np.load('features/CIFAR10_Inception_v3_features.npz')\n",
    "\n",
    "X_training = data['features_training']\n",
    "y_training = data['labels_training']\n",
    "\n",
    "X_testing = data['features_testing']\n",
    "y_testing = data['labels_testing']\n",
    "\n",
    "# data_training, data_testing = myutils.load_CIFAR_dataset(shuffle=False)\n",
    "# assert( (np.array( [data_training[i][1] for i in range(len(data_training))] ) == y_training).all() )\n",
    "# assert( (np.array( [data_testing[i][1] for i in range(len(data_testing))] ) == y_testing).all() )\n",
    "print( 'X_training size = {}'.format(X_training.shape))"
   ]
  },
  {
   "cell_type": "markdown",
   "metadata": {},
   "source": [
    "## LinearSVC classifier from scikit-learn\n",
    "\n",
    "We used the linear classifier from the [scikit-learn](http://scikit-learn.org) library.<br/>\n",
    "More precisely, we used <tt>[LinearSVC](http://scikit-learn.org/stable/modules/generated/sklearn.svm.LinearSVC.html)</tt>"
   ]
  },
  {
   "cell_type": "code",
   "execution_count": 2,
   "metadata": {
    "collapsed": true
   },
   "outputs": [],
   "source": [
    "from sklearn.svm import LinearSVC\n",
    "\n",
    "# C - chosen experimentally (see explanation below)\n",
    "C = 0.1\n",
    "clf = LinearSVC(C=C)"
   ]
  },
  {
   "cell_type": "code",
   "execution_count": 3,
   "metadata": {},
   "outputs": [
    {
     "data": {
      "text/plain": [
       "LinearSVC(C=0.1, class_weight=None, dual=True, fit_intercept=True,\n",
       "     intercept_scaling=1, loss='squared_hinge', max_iter=1000,\n",
       "     multi_class='ovr', penalty='l2', random_state=None, tol=0.0001,\n",
       "     verbose=0)"
      ]
     },
     "execution_count": 3,
     "metadata": {},
     "output_type": "execute_result"
    }
   ],
   "source": [
    "# Warning: training process may take some time\n",
    "clf.fit(X_training, y_training)"
   ]
  },
  {
   "cell_type": "code",
   "execution_count": 4,
   "metadata": {},
   "outputs": [
    {
     "name": "stdout",
     "output_type": "stream",
     "text": [
      "Classification score =  0.896\n"
     ]
    }
   ],
   "source": [
    "print( 'Classification score = ', clf.score( X_testing, y_testing ) )"
   ]
  },
  {
   "cell_type": "markdown",
   "metadata": {},
   "source": [
    "So we obtained **89.60%** score with simply linear classifier."
   ]
  },
  {
   "cell_type": "code",
   "execution_count": 125,
   "metadata": {
    "collapsed": true
   },
   "outputs": [],
   "source": [
    "y_predictions = clf.predict( X_testing )"
   ]
  },
  {
   "cell_type": "markdown",
   "metadata": {},
   "source": [
    "### Some misclassifications"
   ]
  },
  {
   "cell_type": "code",
   "execution_count": 126,
   "metadata": {},
   "outputs": [
    {
     "name": "stdout",
     "output_type": "stream",
     "text": [
      "Confusion matrix:\n",
      " [[901   7  17   8   5   0   2   3  43  14]\n",
      " [  8 945   4   3   0   1   1   1   6  31]\n",
      " [ 22   1 876  30  28  14  18   9   1   1]\n",
      " [  6   6  21 796  30  94  20  14  10   3]\n",
      " [  4   1  21  28 880   9  24  28   4   1]\n",
      " [  6   0  13  76  19 854  11  18   2   1]\n",
      " [  3   1  27  20  15  10 918   2   3   1]\n",
      " [  6   0   8  17  27  22   4 911   2   3]\n",
      " [ 31   6   2   5   2   2   2   1 941   8]\n",
      " [ 12  33   3   0   1   2   1   1   9 938]]\n",
      "['plane', 'auto', 'bird', 'cat', 'deer', 'dog', 'frog', 'horse', 'ship', 'truck']\n"
     ]
    }
   ],
   "source": [
    "from sklearn.metrics import confusion_matrix\n",
    "labels = myutils.load_CIFAR_classnames()\n",
    "conf_matrix = confusion_matrix( y_testing, y_predictions )\n",
    "\n",
    "print( 'Confusion matrix:\\n', conf_matrix )\n",
    "print( labels )"
   ]
  },
  {
   "cell_type": "code",
   "execution_count": 127,
   "metadata": {},
   "outputs": [
    {
     "name": "stdout",
     "output_type": "stream",
     "text": [
      "So we have, e.g., 6 cats predicted to be plane\n"
     ]
    }
   ],
   "source": [
    "i,j = 3,0\n",
    "img_idx = [ k for k in range(10000) if y_testing[k]==i and y_predictions[k]==j ]  \n",
    "print( 'We have, e.g., {c} {iname}s predicted to be {jname}'.format(\\\n",
    "       c=conf_matrix[i,j], iname=labels[i], jname=labels[j]) )\n",
    "# print(img_idx)"
   ]
  },
  {
   "cell_type": "code",
   "execution_count": 128,
   "metadata": {},
   "outputs": [
    {
     "data": {
      "image/png": "[encoded data removed]",
      "text/plain": [
       "<matplotlib.figure.Figure at 0x7fbfa6ba9a58>"
      ]
     },
     "metadata": {},
     "output_type": "display_data"
    }
   ],
   "source": [
    "_, data_testing = myutils.load_CIFAR_dataset(shuffle=False)\n",
    "from matplotlib import pyplot as plt\n",
    "%matplotlib inline \n",
    "\n",
    "fig = plt.figure(figsize=(18,2));\n",
    "for _i in range(conf_matrix[i,j]):\n",
    "    a=fig.add_subplot(1,conf_matrix[i,j],_i+1)\n",
    "    plt.imshow(data_testing[img_idx[_i]][0])\n",
    "    plt.axis('off')"
   ]
  },
  {
   "cell_type": "markdown",
   "metadata": {},
   "source": [
    "### Saving parameters\n",
    "We simply save the matrix with weights and bias vector for linear classifier."
   ]
  },
  {
   "cell_type": "code",
   "execution_count": 124,
   "metadata": {
    "collapsed": true
   },
   "outputs": [],
   "source": [
    "# np.savez_compressed(\"classifiers/8960_Inception_v3_LinearSVC.npz\",W=np.array(clf.coef_).T, b=clf.intercept_)"
   ]
  },
  {
   "cell_type": "markdown",
   "metadata": {},
   "source": [
    "## k-nearest neighbors classifier\n",
    "\n",
    "Let us note that simple [kNN classifier](http://scikit-learn.org/stable/modules/generated/sklearn.neighbors.KNeighborsClassifier.html#sklearn.neighbors.KNeighborsClassifier)\n",
    "(with k=10), trained with 5000 training features (CNN codes) gives **83.45%** accuracy on whole 10000 testing images.\n",
    "\n",
    "Remark that computing predictions with this classifier is very complex and it is not recommended for classificcation of images.\n",
    "\n",
    "Here is the code to compute the score on testing dataset.\n",
    "```python\n",
    "from sklearn.neighbors import KNeighborsClassifier\n",
    "kNN_clf = KNeighborsClassifier(n_neighbors=10)\n",
    "kNN_clf.fit(X_training, y_training)\n",
    "print( 'Classification score = ', kNN_clf.score( X_testing, y_testing ) )\n",
    "# Classification score =  0.8345\n",
    "```"
   ]
  },
  {
   "cell_type": "markdown",
   "metadata": {},
   "source": [
    "## Logistic regression"
   ]
  },
  {
   "cell_type": "markdown",
   "metadata": {},
   "source": [
    "Finally we used <tt>[Logistic regression](http://scikit-learn.org/stable/modules/generated/sklearn.linear_model.LogisticRegression.html#sklearn.linear_model.LogisticRegression)</tt> with default parameters. We trained the model with all the training data and obtained **89.62%** accuracy on testing dataset.\n",
    "```python\n",
    "from sklearn.linear_model import LogisticRegression\n",
    "clf = LogisticRegression()\n",
    "clf.fit(X_training, y_training)\n",
    "print( 'Classification score = ', clf.score( X_testing, y_testing ) )\n",
    "# Classification score =  0.8962\n",
    "```\n",
    "See [Classification_using_CNN_codes-LogisticRegression.ipynb](Classification_using_CNN_codes-LogisticRegression.ipynb) for deails."
   ]
  },
  {
   "cell_type": "code",
   "execution_count": null,
   "metadata": {
    "collapsed": true
   },
   "outputs": [],
   "source": []
  }
 ],
 "metadata": {
  "kernelspec": {
   "display_name": "Python 3",
   "language": "python",
   "name": "python3"
  },
  "language_info": {
   "codemirror_mode": {
    "name": "ipython",
    "version": 3
   },
   "file_extension": ".py",
   "mimetype": "text/x-python",
   "name": "python",
   "nbconvert_exporter": "python",
   "pygments_lexer": "ipython3",
   "version": "3.6.2"
  }
 },
 "nbformat": 4,
 "nbformat_minor": 2
}
