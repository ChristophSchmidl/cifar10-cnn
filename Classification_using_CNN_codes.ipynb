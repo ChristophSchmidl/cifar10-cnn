{
 "cells": [
  {
   "cell_type": "markdown",
   "metadata": {},
   "source": [
    "# CIFAR10 classification using CNN codes\n",
    "\n",
    "Here we are going to build linear models to classify CNN codes of CIFAR10 images.\n",
    "\n",
    "We assume that we already have all the codes extracted by the scripts in the following notebooks:\n",
    "- [Feature_extraction_using_keras.ipynb](Feature_extraction_using_keras.ipynb)\n",
    "- [Feature_extraction_using_Inception_v3.ipynb](Feature_extraction_using_Inception_v3.ipynb)"
   ]
  },
  {
   "cell_type": "code",
   "execution_count": 1,
   "metadata": {},
   "outputs": [
    {
     "name": "stdout",
     "output_type": "stream",
     "text": [
      "CIFAR10_Inception_v3_features.npz    CIFAR10_vgg16-keras_features.npz\r\n",
      "CIFAR10_incv3-keras_features.npz     CIFAR10_vgg19-keras_features.npz\r\n",
      "CIFAR10_resnet50-keras_features.npz\r\n"
     ]
    }
   ],
   "source": [
    "!ls features/"
   ]
  },
  {
   "cell_type": "markdown",
   "metadata": {},
   "source": [
    "## Load CNN codes"
   ]
  },
  {
   "cell_type": "code",
   "execution_count": 2,
   "metadata": {
    "collapsed": true
   },
   "outputs": [],
   "source": [
    "model_names = [\n",
    "    'vgg16-keras', \n",
    "    'vgg19-keras', \n",
    "    'resnet50-keras',\n",
    "    'incv3-keras',   \n",
    "    'Inception_v3'\n",
    "]\n",
    "\n",
    "import numpy as np\n",
    "\n",
    "data = dict()\n",
    "for model_name in model_names:\n",
    "    data[model_name] = np.load('features/CIFAR10_{model}_features.npz'.format(model=model_name)) "
   ]
  },
  {
   "cell_type": "code",
   "execution_count": 3,
   "metadata": {
    "collapsed": true
   },
   "outputs": [],
   "source": [
    "# It is important that CNN codes for all the models are given in the same order,\n",
    "# i.e. they refer to the same samples from the dataset (both training and testing)\n",
    "\n",
    "y_training = data[ model_names[0] ]['labels_training'] # this should be common for all the models\n",
    "y_testing  = data[ model_names[0] ]['labels_testing']  # this should be common for all the models\n",
    "\n",
    "for i in range(1,len(model_names)):\n",
    "    assert( (data[model_names[i]]['labels_training'] == y_training).all() )\n",
    "    assert( (data[model_names[i]]['labels_testing'] == y_testing).all() )"
   ]
  },
  {
   "cell_type": "markdown",
   "metadata": {},
   "source": [
    "## LinearSVC classifier from scikit-learn\n",
    "\n",
    "We used the linear classifier from the [scikit-learn](http://scikit-learn.org) library.<br/>\n",
    "More precisely, we used [`LinearSVC`](http://scikit-learn.org/stable/modules/generated/sklearn.svm.LinearSVC.html)"
   ]
  },
  {
   "cell_type": "code",
   "execution_count": null,
   "metadata": {
    "collapsed": true
   },
   "outputs": [],
   "source": [
    "# First we tried all of the following parameters for each model\n",
    "model_params = {\n",
    "    'vgg16-keras':    [ {'C':0.0001}, {'C':0.001}, {'C':0.01,'max_iter':3000},\n",
    "                        {'C':0.1}, {'C':0.5}, {'C':1.0}, {'C':1.2}, {'C':1.5}, {'C':2.0}, {'C':10.0} ],\n",
    "    'vgg19-keras':    [ {'C':0.0001}, {'C':0.001}, {'C':0.01},\n",
    "                        {'C':0.1}, {'C':0.5}, {'C':1.0}, {'C':1.2}, {'C':1.5}, {'C':2.0}, {'C':10.0} ],\n",
    "    'resnet50-keras': [ {'C':0.0001}, {'C':0.001}, {'C':0.01},\n",
    "                        {'C':0.1}, {'C':0.5}, {'C':1.0}, {'C':1.2}, {'C':1.5}, {'C':2.0}, {'C':10.0} ],\n",
    "    'Inception_v3':   [ {'C':0.0001}, {'C':0.001}, {'C':0.01},\n",
    "                        {'C':0.1}, {'C':0.5}, {'C':1.0}, {'C':1.2}, {'C':1.5}, {'C':2.0}, {'C':10.0} ],\n",
    "    'incv3-keras':    [ {'C':0.0001}, {'C':0.001}, {'C':0.01},\n",
    "                        {'C':0.1}, {'C':0.5}, {'C':1.0}, {'C':1.2}, {'C':1.5}, {'C':2.0}, {'C':10.0} ],\n",
    "}"
   ]
  },
  {
   "cell_type": "markdown",
   "metadata": {},
   "source": [
    "Before we start to train so many classifiers, let us write all the results\n",
    "we obtained after hours of computation.\n",
    "\n",
    "We tried to build LinearSVC classifier with many possible paramater C.\n",
    "Below we present the accuracy of all the considered models.\n",
    "\n",
    "                                           Model \n",
    "             -----------------------------------------------------------------------------\n",
    "       C     | vgg16-keras | vgg19-keras | resnet50-keras | incv3-keras | Inception_v3\n",
    "    ------------------------------------------------------------------------------------\n",
    "     0.0001  |     8515    |     8633    |     9043       |    7244     |    8860\n",
    "     0.001   |     8528    |     8654    |     9158       |    7577     |    9005\n",
    "     0.01    |     8521    |     8644    |     9130       |    7604     |    9061\n",
    "     0.1     |     8464    |     8615    |     9009       |    7461     |    8959\n",
    "     0.5     |     8233    |     8014    |     8858       |    7409     |    8834\n",
    "     1.0     |     8278    |     8225    |     8853       |    7369     |    8776\n",
    "     1.2     |     8083    |     8335    |     8871       |    7357     |    8772\n",
    "     1.5     |     7909    |     8022    |     8852       |    7318     |    8762\n",
    "     2.0     |             |     8256    |     8870       |    7281     |    8736\n",
    "    10.0     |             |     7580    |     8774       |    7042     |    8709"
   ]
  },
  {
   "cell_type": "code",
   "execution_count": 7,
   "metadata": {
    "collapsed": true
   },
   "outputs": [],
   "source": [
    "# and we decided to choose the best parameters\n",
    "model_params = {\n",
    "    'vgg16-keras':    [ {'C':0.0001} ],\n",
    "    'vgg19-keras':    [ {'C':0.001}  ],\n",
    "    'resnet50-keras': [ {'C':0.001}   ],\n",
    "    'Inception_v3':   [ {'C':0.01}   ],\n",
    "    'incv3-keras':    [ {'C':0.001}  ]\n",
    "}"
   ]
  },
  {
   "cell_type": "code",
   "execution_count": 5,
   "metadata": {},
   "outputs": [
    {
     "name": "stdout",
     "output_type": "stream",
     "text": [
      "model =  resnet50-keras\n",
      "X_training size = (50000, 2048)\n",
      "features=  resnet50-keras, C=0.001000 => score= 9158\n",
      "model =  Inception_v3\n",
      "X_training size = (50000, 2048)\n",
      "features=    Inception_v3, C=0.010000 => score= 9061\n",
      "model =  vgg16-keras\n",
      "X_training size = (50000, 512)\n",
      "features=     vgg16-keras, C=0.000100 => score= 8515\n",
      "model =  vgg19-keras\n",
      "X_training size = (50000, 512)\n",
      "features=     vgg19-keras, C=0.001000 => score= 8654\n",
      "model =  incv3-keras\n",
      "X_training size = (50000, 2048)\n",
      "features=     incv3-keras, C=0.001000 => score= 7577\n"
     ]
    }
   ],
   "source": [
    "from sklearn.svm import LinearSVC\n",
    "\n",
    "# C - chosen experimentally (see explanation below)\n",
    "results = dict()\n",
    "\n",
    "for model_name in model_params:\n",
    "    print('model = ', model_name)\n",
    "    X_training = data[model_name]['features_training']\n",
    "    X_testing = data[model_name]['features_testing']\n",
    "    print( 'X_training size = {}'.format(X_training.shape))\n",
    "#     print( 'X_testing size = {}'.format(X_testing.shape))\n",
    "#     print( 'y_training size = {}'.format(y_training.shape))\n",
    "#     print( 'y_testing size = {}'.format(y_testing.shape))\n",
    "    results[model_name] = []\n",
    "    for params in model_params[model_name]:\n",
    "        clf = LinearSVC(**params, verbose=0)\n",
    "        clf.fit( X_training, y_training )\n",
    "        y_pred = clf.predict( X_testing )\n",
    "        score = sum( y_pred == y_testing )\n",
    "        print('features={:>16}, C={:8f} => score={:5d}'.format(model_name,params['C'],score))\n",
    "        results[model_name].append({'pred': y_pred, 'score': score, 'clf': clf})"
   ]
  },
  {
   "cell_type": "code",
   "execution_count": 8,
   "metadata": {
    "collapsed": true
   },
   "outputs": [],
   "source": [
    "from sklearn.externals import joblib\n",
    "\n",
    "for model_name in model_params:\n",
    "    joblib.dump(results[model_name][0]['clf'], \\\n",
    "                'classifiers/{score}-{name}.pkl'.format(score=results[model_name][0]['score'], name=model_name))"
   ]
  },
  {
   "cell_type": "code",
   "execution_count": 9,
   "metadata": {},
   "outputs": [
    {
     "name": "stdout",
     "output_type": "stream",
     "text": [
      "-rw-r--r-- 1 rno rno 164764 sie 30 09:02 classifiers/7577-incv3-keras.pkl\r\n",
      "-rw-r--r-- 1 rno rno  41884 sie 30 09:02 classifiers/8515-vgg16-keras.pkl\r\n",
      "-rw-r--r-- 1 rno rno  41884 sie 30 09:02 classifiers/8654-vgg19-keras.pkl\r\n",
      "-rw-r--r-- 1 rno rno 164764 sie 30 09:02 classifiers/9061-Inception_v3.pkl\r\n",
      "-rw-r--r-- 1 rno rno 164764 sie 30 09:02 classifiers/9158-resnet50-keras.pkl\r\n"
     ]
    }
   ],
   "source": [
    "!ls -l classifiers/*.pkl"
   ]
  },
  {
   "cell_type": "code",
   "execution_count": 10,
   "metadata": {},
   "outputs": [
    {
     "name": "stdout",
     "output_type": "stream",
     "text": [
      "Best accuracy = 0.9158\n"
     ]
    }
   ],
   "source": [
    "best_model = 'resnet50-keras'\n",
    "X_training = data[best_model]['features_training']\n",
    "X_testing  = data[best_model]['features_testing']\n",
    "\n",
    "clf = results[best_model][0]['clf']\n",
    "print( 'Best accuracy = {}'.format( clf.score( X_testing, y_testing ) ) )\n",
    "y_predictions = clf.predict( X_testing )"
   ]
  },
  {
   "cell_type": "markdown",
   "metadata": {},
   "source": [
    "So we obtained **91.58%** accuracy on testing dataset using LinearSVC classifier on top of features extracted with ResNET50 convolutional neural network."
   ]
  },
  {
   "cell_type": "markdown",
   "metadata": {},
   "source": [
    "### Some misclassifications"
   ]
  },
  {
   "cell_type": "code",
   "execution_count": 11,
   "metadata": {},
   "outputs": [
    {
     "name": "stdout",
     "output_type": "stream",
     "text": [
      "Confusion matrix:\n",
      " [[935   3   6   4   6   0   1   6  33   6]\n",
      " [  6 944   0   1   0   0   4   3   9  33]\n",
      " [ 20   0 878  28  34   9  21   6   2   2]\n",
      " [  6   3  19 834  22  68  23  14   4   7]\n",
      " [  3   0  23  10 918   8  14  18   3   3]\n",
      " [  2   0  11  71  18 875   6  14   3   0]\n",
      " [  4   1  12  19   6   2 954   0   2   0]\n",
      " [  6   1   6   9  32  17   0 929   0   0]\n",
      " [ 23   2   4   1   1   1   0   1 959   8]\n",
      " [ 11  45   1   2   0   0   1   1   7 932]]\n",
      "['plane', 'auto', 'bird', 'cat', 'deer', 'dog', 'frog', 'horse', 'ship', 'truck']\n"
     ]
    }
   ],
   "source": [
    "import myutils\n",
    "from sklearn.metrics import confusion_matrix\n",
    "labels = myutils.load_CIFAR_classnames()\n",
    "conf_matrix = confusion_matrix( y_testing, y_predictions )\n",
    "\n",
    "print( 'Confusion matrix:\\n', conf_matrix )\n",
    "print( labels )"
   ]
  },
  {
   "cell_type": "code",
   "execution_count": 12,
   "metadata": {},
   "outputs": [
    {
     "name": "stdout",
     "output_type": "stream",
     "text": [
      "We have, e.g., 6 cats predicted to be plane\n"
     ]
    }
   ],
   "source": [
    "i,j = 3,0\n",
    "img_idx = [ k for k in range(10000) if y_testing[k]==i and y_predictions[k]==j ]  \n",
    "print( 'We have, e.g., {c} {iname}s predicted to be {jname}'.format(\\\n",
    "       c=conf_matrix[i,j], iname=labels[i], jname=labels[j]) )\n",
    "# print(img_idx)"
   ]
  },
  {
   "cell_type": "code",
   "execution_count": 13,
   "metadata": {},
   "outputs": [
    {
     "data": {
      "image/png": "[encoded data removed]",
      "text/plain": [
       "<matplotlib.figure.Figure at 0x7f22afd64d68>"
      ]
     },
     "metadata": {},
     "output_type": "display_data"
    }
   ],
   "source": [
    "_, data_testing = myutils.load_CIFAR_dataset(shuffle=False)\n",
    "from matplotlib import pyplot as plt\n",
    "%matplotlib inline \n",
    "\n",
    "fig = plt.figure(figsize=(18,2));\n",
    "for _i in range(conf_matrix[i,j]):\n",
    "    a=fig.add_subplot(1,conf_matrix[i,j],_i+1)\n",
    "    plt.imshow(data_testing[img_idx[_i]][0])\n",
    "    plt.axis('off')"
   ]
  },
  {
   "cell_type": "markdown",
   "metadata": {},
   "source": [
    "### Saving parameters\n",
    "We simply save the matrix with weights and bias vector for linear classifier."
   ]
  },
  {
   "cell_type": "code",
   "execution_count": 15,
   "metadata": {
    "collapsed": true
   },
   "outputs": [],
   "source": [
    "# np.savez_compressed(\"classifiers/9158_resnet50-keras_LinearSVC.npz\",W=np.array(clf.coef_).T, b=clf.intercept_)"
   ]
  },
  {
   "cell_type": "markdown",
   "metadata": {},
   "source": [
    "## k-nearest neighbors classifier\n",
    "\n",
    "Let us note that simple [kNN classifier](http://scikit-learn.org/stable/modules/generated/sklearn.neighbors.KNeighborsClassifier.html#sklearn.neighbors.KNeighborsClassifier)\n",
    "(with k=10), trained with 5000 training features (CNN codes from Inception_v3) gives **83.45%** accuracy on whole 10000 testing images.\n",
    "\n",
    "Remark that computing predictions with this classifier is very complex and it is not recommended for classificcation of images.\n",
    "\n",
    "Here is the code to compute the score on testing dataset.\n",
    "```python\n",
    "from sklearn.neighbors import KNeighborsClassifier\n",
    "kNN_clf = KNeighborsClassifier(n_neighbors=10)\n",
    "kNN_clf.fit(X_training, y_training)\n",
    "print( 'Classification score = ', kNN_clf.score( X_testing, y_testing ) )\n",
    "# Classification score =  0.8345\n",
    "```"
   ]
  },
  {
   "cell_type": "markdown",
   "metadata": {},
   "source": [
    "## Logistic regression"
   ]
  },
  {
   "cell_type": "markdown",
   "metadata": {},
   "source": [
    "Finally we used <tt>[Logistic regression](http://scikit-learn.org/stable/modules/generated/sklearn.linear_model.LogisticRegression.html#sklearn.linear_model.LogisticRegression)</tt> with default parameters. We trained the model with all the training data and obtained **90.37%** accuracy on testing dataset."
   ]
  },
  {
   "cell_type": "code",
   "execution_count": 27,
   "metadata": {},
   "outputs": [
    {
     "name": "stdout",
     "output_type": "stream",
     "text": [
      "Linear regression accuracy =  0.9037\n"
     ]
    }
   ],
   "source": [
    "from sklearn.linear_model import LogisticRegression\n",
    "clf = LogisticRegression()\n",
    "clf.fit(X_training, y_training)\n",
    "print( 'Linear regression accuracy = ', clf.score( X_testing, y_testing ) )"
   ]
  },
  {
   "cell_type": "code",
   "execution_count": null,
   "metadata": {
    "collapsed": true
   },
   "outputs": [],
   "source": []
  }
 ],
 "metadata": {
  "kernelspec": {
   "display_name": "Python 3",
   "language": "python",
   "name": "python3"
  },
  "language_info": {
   "codemirror_mode": {
    "name": "ipython",
    "version": 3
   },
   "file_extension": ".py",
   "mimetype": "text/x-python",
   "name": "python",
   "nbconvert_exporter": "python",
   "pygments_lexer": "ipython3",
   "version": "3.5.3"
  }
 },
 "nbformat": 4,
 "nbformat_minor": 2
}
